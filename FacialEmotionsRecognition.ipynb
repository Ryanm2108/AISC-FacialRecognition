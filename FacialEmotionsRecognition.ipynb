{
  "cells": [
    {
      "cell_type": "code",
      "execution_count": null,
      "metadata": {
        "id": "H7O7orwAT-yH"
      },
      "outputs": [],
      "source": [
        "# Image Loading and Preprocessing"
      ]
    },
    {
      "cell_type": "code",
      "execution_count": null,
      "metadata": {
        "colab": {
          "base_uri": "https://localhost:8080/"
        },
        "id": "xCbutO-rUMJi",
        "outputId": "8ea5c041-1714-4cb1-925b-8a622492d668"
      },
      "outputs": [
        {
          "output_type": "stream",
          "name": "stdout",
          "text": [
            "Warning: Looks like you're using an outdated `kagglehub` version (installed: 0.3.9), please consider upgrading to the latest version (0.3.10).\n",
            "Downloading from https://www.kaggle.com/api/v1/datasets/download/msambare/fer2013?dataset_version_number=1...\n"
          ]
        },
        {
          "output_type": "stream",
          "name": "stderr",
          "text": [
            "100%|██████████| 60.3M/60.3M [00:00<00:00, 120MB/s]"
          ]
        },
        {
          "output_type": "stream",
          "name": "stdout",
          "text": [
            "Extracting files...\n"
          ]
        },
        {
          "output_type": "stream",
          "name": "stderr",
          "text": [
            "\n"
          ]
        },
        {
          "output_type": "stream",
          "name": "stdout",
          "text": [
            "Path to dataset files: /root/.cache/kagglehub/datasets/msambare/fer2013/versions/1\n"
          ]
        }
      ],
      "source": [
        "import kagglehub\n",
        "\n",
        "# Download latest version\n",
        "path = kagglehub.dataset_download(\"msambare/fer2013\")\n",
        "\n",
        "print(\"Path to dataset files:\", path)"
      ]
    },
    {
      "cell_type": "code",
      "execution_count": null,
      "metadata": {
        "id": "etJoD25KUNnT"
      },
      "outputs": [],
      "source": [
        "import os\n",
        "import cv2\n",
        "import glob\n",
        "import numpy as np\n",
        "from sklearn.preprocessing import StandardScaler\n",
        "from sklearn.model_selection import train_test_split\n",
        "\n",
        "def load_images(directory):\n",
        "  images = []\n",
        "  labels = []\n",
        "  for label, emotion in enumerate(os.listdir(directory)):\n",
        "    emotion_path = os.path.join(directory, emotion)\n",
        "    if not os.path.isdir(emotion_path):\n",
        "      continue # Skip if not a directory\n",
        "    for filename in glob.glob(os.path.join(emotion_path, \"*.jpg\")):\n",
        "      img = cv2.imread(filename, cv2.IMREAD_GRAYSCALE) # Convert to grayscale\n",
        "      img = cv2.resize(img, (48, 48))  # Resize\n",
        "      img_vector = img.flatten() / 255.0 # Flatten + Normalize\n",
        "      images.append(img_vector)\n",
        "      labels.append(label)\n",
        "  return np.array(images), np.array(labels)\n",
        "\n",
        "# Define dataset directories\n",
        "train_dir = \"/root/.cache/kagglehub/datasets/msambare/fer2013/versions/1/train\" #path to our train dataset\n",
        "test_dir = \"/root/.cache/kagglehub/datasets/msambare/fer2013/versions/1/test\" #path to our test dataset\n",
        "\n",
        "# Load images and labels\n",
        "train_images, train_labels = load_images(train_dir)\n",
        "test_images, test_labels = load_images(test_dir)\n",
        "\n",
        "\n",
        "# DATA SPLITTING\n",
        "\n",
        "train_images, val_images, train_labels, val_labels = train_test_split(\n",
        "    train_images,\n",
        "    train_labels,\n",
        "    test_size=0.2,\n",
        "    stratify = train_labels,\n",
        "    random_state=42\n",
        ")\n",
        "\n",
        "# train_images, train_labels - are your training data and labels\n",
        "# val_images, val_labels - are your validation data and labels\n",
        "# test_images, test_labels - are your test data and labels\n",
        "\n",
        "# Standardization\n",
        "scaler = StandardScaler()\n",
        "train_images= scaler.fit_transform(train_images)\n",
        "val_images = scaler.transform(val_images)\n",
        "test_images= scaler.transform(test_images)\n"
      ]
    },
    {
      "cell_type": "code",
      "execution_count": null,
      "metadata": {
        "id": "FMgPd5CPWJLo"
      },
      "outputs": [],
      "source": [
        "# Exploratory Data Analysis (EDA)"
      ]
    },
    {
      "cell_type": "code",
      "execution_count": null,
      "metadata": {
        "colab": {
          "base_uri": "https://localhost:8080/",
          "height": 1000
        },
        "id": "E0ptN4boUmTT",
        "outputId": "ad282bdd-c863-4d0d-9b5c-18dd02824950"
      },
      "outputs": [
        {
          "output_type": "display_data",
          "data": {
            "text/plain": [
              "<Figure size 1200x300 with 5 Axes>"
            ],
            "image/png": "[encoded data removed]"
          },
          "metadata": {}
        },
        {
          "output_type": "display_data",
          "data": {
            "text/plain": [
              "<Figure size 640x480 with 1 Axes>"
            ],
            "image/png": "[encoded data removed]"
          },
          "metadata": {}
        },
        {
          "output_type": "display_data",
          "data": {
            "text/plain": [
              "<Figure size 640x480 with 1 Axes>"
            ],
            "image/png": "[encoded data removed]"
          },
          "metadata": {}
        }
      ],
      "source": [
        "import matplotlib.pyplot as plt\n",
        "\n",
        "class_names = ['Angry', 'Disgust', 'Fear', 'Happy', 'Neutral', 'Sad', 'Surprise']\n",
        "\n",
        "def display_images(images, labels, num_images=5):\n",
        "  fig, axes = plt.subplots(1, num_images, figsize=(12, 3))\n",
        "  for i in range(num_images):\n",
        "    idx = np.random.randint(0, len(images))\n",
        "    img = images[idx].reshape(48, 48) # Reshape back to 2D\n",
        "    axes[i].imshow(img, cmap='gray')\n",
        "    axes[i].set_title(class_names[labels[idx]])\n",
        "    axes[i].axis('off')\n",
        "  plt.show()\n",
        "\n",
        "display_images(train_images, train_labels)\n",
        "\n",
        "# Class Distribution Bar Chart\n",
        "unique, counts = np.unique(train_labels, return_counts=True)\n",
        "plt.bar(unique, counts)\n",
        "plt.xticks(unique, class_names)\n",
        "plt.title('Class Distribution')\n",
        "plt.show()\n",
        "\n",
        "# Pixel Histogram\n",
        "plt.hist(train_images.flatten(), bins=50, color='blue', alpha=0.7)\n",
        "plt.title('Pixel Value Distribution')\n",
        "plt.xlabel('Pixel Intensity')\n",
        "plt.ylabel('Frequency')\n",
        "plt.show()"
      ]
    },
    {
      "cell_type": "code",
      "execution_count": null,
      "metadata": {
        "id": "K7hd9PfeTZ0H"
      },
      "outputs": [],
      "source": [
        "# Saving the files\n",
        "np.save(\"train_images.npy\", train_images)\n",
        "np.save(\"train_labels.npy\", train_labels)\n",
        "np.save(\"val_images.npy\", val_images)\n",
        "np.save(\"val_labels.npy\", val_labels)\n",
        "np.save(\"test_images.npy\", test_images)\n",
        "np.save(\"test_labels.npy\", test_labels)"
      ]
    },
    {
      "cell_type": "code",
      "execution_count": null,
      "metadata": {
        "id": "XWxSMdm_QtZ3"
      },
      "outputs": [],
      "source": [
        "import numpy as np\n",
        "\n",
        "# Load the data\n",
        "X_train = np.load(\"train_images.npy\")\n",
        "y_train = np.load(\"train_labels.npy\")\n",
        "X_val = np.load(\"val_images.npy\")\n",
        "y_val = np.load(\"val_labels.npy\")\n",
        "X_test = np.load(\"test_images.npy\")\n",
        "y_test = np.load(\"test_labels.npy\")"
      ]
    },
    {
      "cell_type": "code",
      "execution_count": null,
      "metadata": {
        "colab": {
          "base_uri": "https://localhost:8080/",
          "height": 1000
        },
        "id": "jF9kbF_IN4N7",
        "outputId": "0b2b33d6-797a-481d-b7db-24172f1dcc4a"
      },
      "outputs": [
        {
          "output_type": "stream",
          "name": "stdout",
          "text": [
            "Mounted at /content/drive\n",
            "Warning: Looks like you're using an outdated `kagglehub` version (installed: 0.3.9), please consider upgrading to the latest version (0.3.10).\n",
            "Path to dataset files: /root/.cache/kagglehub/datasets/msambare/fer2013/versions/1\n",
            "Decision Tree (Baseline) Accuracy: 0.306687565308255\n",
            "              precision    recall  f1-score   support\n",
            "\n",
            "           0       0.40      0.39      0.39      1443\n",
            "           1       0.26      0.27      0.26       820\n",
            "           2       0.21      0.24      0.23        87\n",
            "           3       0.21      0.21      0.21       799\n",
            "           4       0.43      0.48      0.45       634\n",
            "           5       0.24      0.23      0.24       966\n",
            "           6       0.27      0.26      0.27       993\n",
            "\n",
            "    accuracy                           0.31      5742\n",
            "   macro avg       0.29      0.30      0.29      5742\n",
            "weighted avg       0.31      0.31      0.31      5742\n",
            "\n",
            "[[562 173  13 195  86 202 212]\n",
            " [145 220  12  86  95 139 123]\n",
            " [ 12  15  21   9   6  11  13]\n",
            " [170 115  14 166  73 141 120]\n",
            " [ 82  68   8  55 306  59  56]\n",
            " [202 143  11 130  77 227 176]\n",
            " [230 116  19 137  75 157 259]]\n",
            "Fitting 3 folds for each of 20 candidates, totalling 60 fits\n",
            "Best Decision Tree Parameters: {'criterion': 'entropy', 'max_depth': 8, 'min_samples_leaf': 4}\n",
            "Best Decision Tree Cross-Validated Accuracy: 0.29851524319980816\n",
            "Best Decision Tree Accuracy on Validation Set: 0.31382793451758967\n",
            "              precision    recall  f1-score   support\n",
            "\n",
            "           0       0.36      0.59      0.45      1443\n",
            "           1       0.23      0.14      0.17       820\n",
            "           2       0.00      0.00      0.00        87\n",
            "           3       0.24      0.07      0.11       799\n",
            "           4       0.40      0.39      0.40       634\n",
            "           5       0.25      0.23      0.24       966\n",
            "           6       0.27      0.32      0.29       993\n",
            "\n",
            "    accuracy                           0.31      5742\n",
            "   macro avg       0.25      0.25      0.24      5742\n",
            "weighted avg       0.29      0.31      0.29      5742\n",
            "\n",
            "[[846  84   0  44  77 175 217]\n",
            " [265 112   0  33 109 144 157]\n",
            " [ 46   5   0   4   3  14  15]\n",
            " [307  65   0  59  58 132 178]\n",
            " [153  75   1  25 249  56  75]\n",
            " [350  74   1  47  58 220 216]\n",
            " [357  77   0  32  63 148 316]]\n",
            "Best Decision Tree Accuracy on Test Set: 0.3110894399554193\n",
            "              precision    recall  f1-score   support\n",
            "\n",
            "           0       0.38      0.61      0.47      1774\n",
            "           1       0.18      0.12      0.14      1024\n",
            "           2       0.00      0.00      0.00       111\n",
            "           3       0.23      0.08      0.12       958\n",
            "           4       0.41      0.36      0.38       831\n",
            "           5       0.26      0.24      0.25      1247\n",
            "           6       0.25      0.29      0.27      1233\n",
            "\n",
            "    accuracy                           0.31      7178\n",
            "   macro avg       0.24      0.24      0.23      7178\n",
            "weighted avg       0.29      0.31      0.29      7178\n",
            "\n",
            "[[1074  127    0   49   82  186  256]\n",
            " [ 334  123    1   53  134  178  201]\n",
            " [  45   16    0    7    5   18   20]\n",
            " [ 364   89    0   78   75  154  198]\n",
            " [ 171  105    0   48  299  102  106]\n",
            " [ 429  115    0   51   77  300  275]\n",
            " [ 426  107    0   46   58  237  359]]\n",
            "Model saved to Google Drive: /content/drive/MyDrive/emotion_models/best_decision_tree_model.pkl\n"
          ]
        },
        {
          "output_type": "display_data",
          "data": {
            "text/plain": [
              "<IPython.core.display.Javascript object>"
            ],
            "application/javascript": [
              "\n",
              "    async function download(id, filename, size) {\n",
              "      if (!google.colab.kernel.accessAllowed) {\n",
              "        return;\n",
              "      }\n",
              "      const div = document.createElement('div');\n",
              "      const label = document.createElement('label');\n",
              "      label.textContent = `Downloading \"${filename}\": `;\n",
              "      div.appendChild(label);\n",
              "      const progress = document.createElement('progress');\n",
              "      progress.max = size;\n",
              "      div.appendChild(progress);\n",
              "      document.body.appendChild(div);\n",
              "\n",
              "      const buffers = [];\n",
              "      let downloaded = 0;\n",
              "\n",
              "      const channel = await google.colab.kernel.comms.open(id);\n",
              "      // Send a message to notify the kernel that we're ready.\n",
              "      channel.send({})\n",
              "\n",
              "      for await (const message of channel.messages) {\n",
              "        // Send a message to notify the kernel that we're ready.\n",
              "        channel.send({})\n",
              "        if (message.buffers) {\n",
              "          for (const buffer of message.buffers) {\n",
              "            buffers.push(buffer);\n",
              "            downloaded += buffer.byteLength;\n",
              "            progress.value = downloaded;\n",
              "          }\n",
              "        }\n",
              "      }\n",
              "      const blob = new Blob(buffers, {type: 'application/binary'});\n",
              "      const a = document.createElement('a');\n",
              "      a.href = window.URL.createObjectURL(blob);\n",
              "      a.download = filename;\n",
              "      div.appendChild(a);\n",
              "      a.click();\n",
              "      div.remove();\n",
              "    }\n",
              "  "
            ]
          },
          "metadata": {}
        },
        {
          "output_type": "display_data",
          "data": {
            "text/plain": [
              "<IPython.core.display.Javascript object>"
            ],
            "application/javascript": [
              "download(\"download_88abb77b-4d6d-4984-8a61-ad7b603688b6\", \"best_decision_tree_model.pkl\", 61505)"
            ]
          },
          "metadata": {}
        },
        {
          "output_type": "stream",
          "name": "stdout",
          "text": [
            "Model downloaded to local computer.\n"
          ]
        }
      ],
      "source": [
        "import numpy as np\n",
        "import pandas as pd\n",
        "import os\n",
        "import cv2\n",
        "import glob\n",
        "from sklearn.model_selection import train_test_split\n",
        "from sklearn.preprocessing import StandardScaler\n",
        "from sklearn.tree import DecisionTreeClassifier\n",
        "from sklearn.model_selection import RandomizedSearchCV\n",
        "from sklearn.metrics import accuracy_score, classification_report, confusion_matrix\n",
        "from scipy.stats import randint\n",
        "import joblib\n",
        "import kagglehub\n",
        "from google.colab import drive, files  # <--- ADDED: Import drive and files\n",
        "\n",
        "# Mount Google Drive \n",
        "drive.mount('/content/drive')\n",
        "\n",
        "# 2. Define model_path \n",
        "drive_path = '/content/drive/MyDrive/emotion_models' ",
        "model_filename = 'best_decision_tree_model.pkl'\n",
        "model_path = os.path.join(drive_path, model_filename)\n",
        "\n",
        "# Create the directory in Drive if it doesn't exist ",
        "os.makedirs(drive_path, exist_ok=True)\n",
        "\n",
        "# Download and Prepare Data\n",
        "path = kagglehub.dataset_download(\"msambare/fer2013\")\n",
        "print(\"Path to dataset files:\", path)\n",
        "\n",
        "train_dir = os.path.join(path, \"train\")\n",
        "test_dir = os.path.join(path, \"test\")\n",
        "\n",
        "def load_images(directory):\n",
        "    images = []\n",
        "    labels = []\n",
        "    for label, emotion in enumerate(os.listdir(directory)):\n",
        "        emotion_path = os.path.join(directory, emotion)\n",
        "        if not os.path.isdir(emotion_path):\n",
        "            continue\n",
        "        for filename in glob.glob(os.path.join(emotion_path, \"*.jpg\")):\n",
        "            img = cv2.imread(filename, cv2.IMREAD_GRAYSCALE)\n",
        "            if img is None:\n",
        "                print(f\"Warning: Could not read image {filename}\")\n",
        "                continue\n",
        "            img = cv2.resize(img, (48, 48))\n",
        "            img_vector = img.flatten() / 255.0\n",
        "            images.append(img_vector)\n",
        "            labels.append(label)\n",
        "    return np.array(images), np.array(labels)\n",
        "\n",
        "train_images, train_labels = load_images(train_dir)\n",
        "test_images, test_labels = load_images(test_dir)\n",
        "\n",
        "scaler = StandardScaler()\n",
        "train_images = scaler.fit_transform(train_images)\n",
        "test_images = scaler.transform(test_images)\n",
        "\n",
        "X_train, X_val, y_train, y_val = train_test_split(\n",
        "    train_images, train_labels, test_size=0.2, stratify=train_labels, random_state=42\n",
        ")\n",
        "\n",
        "# --- 4. Train and Evaluate Baseline Decision Tree ---\n",
        "dt_model = DecisionTreeClassifier(random_state=42)\n",
        "dt_model.fit(X_train, y_train)\n",
        "y_val_pred = dt_model.predict(X_val)\n",
        "print(f\"Decision Tree (Baseline) Accuracy: {accuracy_score(y_val, y_val_pred)}\")\n",
        "print(classification_report(y_val, y_val_pred))\n",
        "print(confusion_matrix(y_val, y_val_pred))\n",
        "\n",
        "# --- 5. Hyperparameter Tuning ---\n",
        "param_distributions = {\n",
        "    'max_depth': randint(2, 15),\n",
        "    'min_samples_leaf': randint(1, 10),\n",
        "    'criterion': ['gini', 'entropy']\n",
        "}\n",
        "\n",
        "randomized_search = RandomizedSearchCV(\n",
        "    estimator=DecisionTreeClassifier(random_state=42),\n",
        "    param_distributions=param_distributions,\n",
        "    n_iter=20,\n",
        "    cv=3,\n",
        "    scoring='accuracy',\n",
        "    verbose=2,\n",
        "    n_jobs=-1,\n",
        "    random_state=42\n",
        ")\n",
        "\n",
        "randomized_search.fit(X_train, y_train)\n",
        "print(\"Best Decision Tree Parameters:\", randomized_search.best_params_)\n",
        "best_dt_model = randomized_search.best_estimator_\n",
        "print(f\"Best Decision Tree Cross-Validated Accuracy: {randomized_search.best_score_}\")\n",
        "\n",
        "val_accuracy = best_dt_model.score(X_val, y_val)\n",
        "print(f\"Best Decision Tree Accuracy on Validation Set: {val_accuracy}\")\n",
        "print(classification_report(y_val, best_dt_model.predict(X_val)))\n",
        "print(confusion_matrix(y_val, best_dt_model.predict(X_val)))\n",
        "\n",
        "test_accuracy = best_dt_model.score(X_test, y_test)\n",
        "print(f\"Best Decision Tree Accuracy on Test Set: {test_accuracy}\")\n",
        "print(classification_report(y_test, best_dt_model.predict(X_test)))\n",
        "print(confusion_matrix(y_test, best_dt_model.predict(X_test)))\n",
        "\n",
        "# --- 6. Save to Google Drive AND Download ---\n",
        "try:\n",
        "    joblib.dump(best_dt_model, model_path)\n",
        "    print(f\"Model saved to Google Drive: {model_path}\")\n",
        "except Exception as e:\n",
        "    print(f\"ERROR saving to Google Drive: {e}\")\n",
        "    # import sys  # Uncomment if you want to exit on save failure\n",
        "    # sys.exit(1)\n",
        "\n",
        "try:\n",
        "    files.download(model_path)\n",
        "    print(\"Model downloaded to local computer.\")\n",
        "except Exception as e:\n",
        "    print(f\"ERROR downloading model: {e}\")\n",
        "    print(\"You should still have a copy in your Google Drive.\")"
      ]
    },
    {
      "cell_type": "code",
      "execution_count": null,
      "metadata": {
        "colab": {
          "base_uri": "https://localhost:8080/"
        },
        "id": "TJyc3ToSBOd7",
        "outputId": "e8652595-5945-47dc-d9dc-7dec44c8311d"
      },
      "outputs": [
        {
          "name": "stdout",
          "output_type": "stream",
          "text": [
            "Best Decision Tree Accuracy on Validation Set: 0.30912574016022293\n",
            "Classification Report:\n",
            "               precision    recall  f1-score   support\n",
            "\n",
            "           0       0.27      0.32      0.29       993\n",
            "           1       0.00      0.00      0.00        87\n",
            "           2       0.22      0.11      0.15       820\n",
            "           3       0.23      0.25      0.24       966\n",
            "           4       0.24      0.10      0.14       799\n",
            "           5       0.38      0.38      0.38       634\n",
            "           6       0.37      0.56      0.45      1443\n",
            "\n",
            "    accuracy                           0.31      5742\n",
            "   macro avg       0.25      0.25      0.24      5742\n",
            "weighted avg       0.29      0.31      0.29      5742\n",
            "\n",
            "Confusion Matrix:\n",
            " [[315   0  45 181  40  51 361]\n",
            " [ 12   0   8  12   4   5  46]\n",
            " [155   0  89 180  53 107 236]\n",
            " [218   0  65 240  54  66 323]\n",
            " [153   0  62 169  81  79 255]\n",
            " [ 99   0  60  68  31 244 132]\n",
            " [231   0  69 174  76  87 806]]\n",
            "Best Decision Tree Accuracy on Test Set: 0.3110894399554193\n"
          ]
        },
        {
          "name": "stderr",
          "output_type": "stream",
          "text": [
            "/usr/local/lib/python3.11/dist-packages/sklearn/metrics/_classification.py:1565: UndefinedMetricWarning: Precision is ill-defined and being set to 0.0 in labels with no predicted samples. Use `zero_division` parameter to control this behavior.\n",
            "  _warn_prf(average, modifier, f\"{metric.capitalize()} is\", len(result))\n",
            "/usr/local/lib/python3.11/dist-packages/sklearn/metrics/_classification.py:1565: UndefinedMetricWarning: Precision is ill-defined and being set to 0.0 in labels with no predicted samples. Use `zero_division` parameter to control this behavior.\n",
            "  _warn_prf(average, modifier, f\"{metric.capitalize()} is\", len(result))\n",
            "/usr/local/lib/python3.11/dist-packages/sklearn/metrics/_classification.py:1565: UndefinedMetricWarning: Precision is ill-defined and being set to 0.0 in labels with no predicted samples. Use `zero_division` parameter to control this behavior.\n",
            "  _warn_prf(average, modifier, f\"{metric.capitalize()} is\", len(result))\n"
          ]
        }
      ],
      "source": [
        "from sklearn.tree import DecisionTreeClassifier\n",
        "from sklearn.metrics import accuracy_score, classification_report, confusion_matrix\n",
        "\n",
        "# 1. Define the best parameters manually\n",
        "best_dt_model = DecisionTreeClassifier(\n",
        "    max_depth=8,\n",
        "    min_samples_leaf=4,\n",
        "    criterion='entropy',\n",
        "    random_state=42\n",
        ")\n",
        "\n",
        "# 2. Train the model on training data\n",
        "best_dt_model.fit(X_train, y_train)\n",
        "\n",
        "# 3. Make predictions on the validation set\n",
        "y_val_pred_best_dt = best_dt_model.predict(X_val)\n",
        "\n",
        "# 4. Evaluate the model\n",
        "accuracy = accuracy_score(y_val, y_val_pred_best_dt)\n",
        "print(f\"Best Decision Tree Accuracy on Validation Set: {accuracy}\")\n",
        "\n",
        "print(\"Classification Report:\\n\", classification_report(y_val, y_val_pred_best_dt))\n",
        "print(\"Confusion Matrix:\\n\", confusion_matrix(y_val, y_val_pred_best_dt))\n",
        "\n",
        "# 5. Evaluate on the test set\n",
        "y_test_pred_best_dt = best_dt_model.predict(X_test)\n",
        "test_accuracy = accuracy_score(y_test, y_test_pred_best_dt)\n",
        "print(f\"Best Decision Tree Accuracy on Test Set: {test_accuracy}\")"
      ]
    },
    {
      "cell_type": "code",
      "execution_count": null,
      "metadata": {
        "colab": {
          "base_uri": "https://localhost:8080/",
          "height": 609
        },
        "id": "cEEqadqoN6Bj",
        "outputId": "f2255f05-4904-46e3-89de-f68d23203b28"
      },
      "outputs": [
        {
          "name": "stdout",
          "output_type": "stream",
          "text": [
            "Random Forest Accuracy: 0.4437478230581679\n",
            "              precision    recall  f1-score   support\n",
            "\n",
            "           0       0.40      0.38      0.39       993\n",
            "           1       1.00      0.25      0.40        87\n",
            "           2       0.44      0.28      0.34       820\n",
            "           3       0.36      0.36      0.36       966\n",
            "           4       0.46      0.17      0.25       799\n",
            "           5       0.66      0.55      0.60       634\n",
            "           6       0.44      0.75      0.55      1443\n",
            "\n",
            "    accuracy                           0.44      5742\n",
            "   macro avg       0.54      0.39      0.41      5742\n",
            "weighted avg       0.46      0.44      0.42      5742\n",
            "\n",
            "[[ 382    0   61  145   27   19  359]\n",
            " [  10   22    5    7    3    4   36]\n",
            " [ 104    0  229  145   44   69  229]\n",
            " [ 164    0   59  348   39   28  328]\n",
            " [ 108    0   71  143  137   33  307]\n",
            " [  66    0   49   41   14  349  115]\n",
            " [ 114    0   46  139   34   29 1081]]\n"
          ]
        },
        {
          "ename": "NameError",
          "evalue": "name 'precision_score' is not defined",
          "output_type": "error",
          "traceback": [
            "\u001b[0;31m---------------------------------------------------------------------------\u001b[0m",
            "\u001b[0;31mNameError\u001b[0m                                 Traceback (most recent call last)",
            "\u001b[0;32m<ipython-input-7-082095666435>\u001b[0m in \u001b[0;36m<cell line: 0>\u001b[0;34m()\u001b[0m\n\u001b[1;32m     16\u001b[0m \u001b[0;34m\u001b[0m\u001b[0m\n\u001b[1;32m     17\u001b[0m \u001b[0;31m#Get precision (TP/(TP + FP)), recall (TP/(TP + FN)\u001b[0m\u001b[0;34m\u001b[0m\u001b[0;34m\u001b[0m\u001b[0m\n\u001b[0;32m---> 18\u001b[0;31m \u001b[0mprecision\u001b[0m \u001b[0;34m=\u001b[0m \u001b[0mprecision_score\u001b[0m\u001b[0;34m(\u001b[0m\u001b[0my_val\u001b[0m\u001b[0;34m,\u001b[0m \u001b[0my_val_pred_rf\u001b[0m\u001b[0;34m)\u001b[0m\u001b[0;34m\u001b[0m\u001b[0;34m\u001b[0m\u001b[0m\n\u001b[0m\u001b[1;32m     19\u001b[0m \u001b[0mrecall\u001b[0m \u001b[0;34m=\u001b[0m \u001b[0mrecall_score\u001b[0m\u001b[0;34m(\u001b[0m\u001b[0my_val\u001b[0m\u001b[0;34m,\u001b[0m \u001b[0my_val_pred_rf\u001b[0m\u001b[0;34m)\u001b[0m\u001b[0;34m\u001b[0m\u001b[0;34m\u001b[0m\u001b[0m\n\u001b[1;32m     20\u001b[0m \u001b[0;31m#F1-score (2*(Precision*Recall)/(Precision+Recall))\u001b[0m\u001b[0;34m\u001b[0m\u001b[0;34m\u001b[0m\u001b[0m\n",
            "\u001b[0;31mNameError\u001b[0m: name 'precision_score' is not defined"
          ]
        }
      ],
      "source": [
        "# random forest\n",
        "\n",
        "from sklearn.ensemble import RandomForestClassifier\n",
        "\n",
        "rf_model = RandomForestClassifier(random_state=42)\n",
        "rf_model.fit(X_train, y_train)\n",
        "\n",
        "from sklearn.metrics import accuracy_score, classification_report, confusion_matrix\n",
        "y_val_pred_rf = rf_model.predict(X_val)\n",
        "accuracy = accuracy_score(y_val, y_val_pred_rf)\n",
        "print(f\"Random Forest Accuracy: {accuracy}\")\n",
        "\t\t#proportion of correctly classified examples\n",
        "print(classification_report(y_val, y_val_pred_rf))\n",
        "print(confusion_matrix(y_val, y_val_pred_rf))\n",
        "\t\t#true positive, tn, fp, fn\n",
        "\n",
        "#Get precision (TP/(TP + FP)), recall (TP/(TP + FN)\n",
        "precision = precision_score(y_val, y_val_pred_rf)\n",
        "recall = recall_score(y_val, y_val_pred_rf)\n",
        "#F1-score (2*(Precision*Recall)/(Precision+Recall))\n",
        "f1 = f1_score(y_val, y_val_pred_rf)\n",
        "\n",
        "print(f\"Precision: {precision}\")\n",
        "print(f\"Recall: {recall}\")\n",
        "print(f\"F1-Score: {f1}\")\n",
        "\n",
        "# Hyperparameter grid\n",
        "param_grid = {\n",
        "    'n_estimators': [100, 200],\n",
        "    'max_depth': [4, 8, 12],\n",
        "    'min_samples_leaf': [2, 4, 6],\n",
        "    'criterion': ['gini', 'entropy']\n",
        "}\n",
        "\n",
        "# GridSearchCV for hyperparameter tuning\n",
        "grid = GridSearchCV(estimator=rfc, param_grid=param_grid, cv=5, scoring='accuracy')\n",
        "grid.fit(X_train, y_train)\n",
        "\n",
        "# Best parameters found\n",
        "print('Best parameters: ', grid.best_params_)\n",
        "\n",
        "\n",
        "# Set hyperparameters\n",
        "'''\n",
        "rf_model = RandomForestClassifier(\n",
        "    n_estimators=100,      # Number of trees in the forest\n",
        "    max_depth=10,          # Maximum depth of each tree\n",
        "    min_samples_leaf=2,    # Minimum samples required in a leaf node\n",
        "    random_state=42\n",
        ")\n",
        "'''\n"
      ]
    },
    {
      "cell_type": "code",
      "execution_count": null,
      "metadata": {
        "colab": {
          "base_uri": "https://localhost:8080/"
        },
        "id": "DsMLTX83Bm3q",
        "outputId": "05ed5d7c-450b-449b-ecf8-7cdbe8c02eaa"
      },
      "outputs": [
        {
          "name": "stdout",
          "output_type": "stream",
          "text": [
            "Best Decision Tree Accuracy on Validation Set: 0.39742250087077674\n",
            "Classification Report:\n",
            "               precision    recall  f1-score   support\n",
            "\n",
            "           0       0.41      0.32      0.36       993\n",
            "           1       1.00      0.02      0.04        87\n",
            "           2       0.48      0.12      0.19       820\n",
            "           3       0.32      0.31      0.31       966\n",
            "           4       0.50      0.07      0.13       799\n",
            "           5       0.57      0.48      0.52       634\n",
            "           6       0.38      0.84      0.52      1443\n",
            "\n",
            "    accuracy                           0.40      5742\n",
            "   macro avg       0.52      0.31      0.30      5742\n",
            "weighted avg       0.44      0.40      0.35      5742\n",
            "\n",
            "Confusion Matrix:\n",
            " [[ 316    0   16  149   14   32  466]\n",
            " [  10    2    3    8    1    5   58]\n",
            " [  88    0   99  144   20   84  385]\n",
            " [ 154    0   21  296    9   37  449]\n",
            " [  94    0   25  153   58   40  429]\n",
            " [  57    0   24   45    7  306  195]\n",
            " [  57    0   17  126    6   32 1205]]\n",
            "Best Random Forest Accuracy on Test Set: 0.40596266369462247\n"
          ]
        }
      ],
      "source": [
        "from sklearn.ensemble import RandomForestClassifier\n",
        "from sklearn.metrics import accuracy_score, classification_report, confusion_matrix\n",
        "\n",
        "# 1. Define the best parameters manually\n",
        "best_rf_model = RandomForestClassifier(\n",
        "    n_estimators=100,\n",
        "    max_depth=10,\n",
        "    min_samples_leaf=2,\n",
        "    random_state=42\n",
        ")\n",
        "\n",
        "# 2. Train the model on training data\n",
        "best_rf_model.fit(X_train, y_train)\n",
        "\n",
        "# 3. Make predictions on the validation set\n",
        "y_val_pred_best_rf = best_rf_model.predict(X_val)\n",
        "\n",
        "# 4. Evaluate the model\n",
        "accuracy = accuracy_score(y_val, y_val_pred_best_rf)\n",
        "print(f\"Best Random Forest Accuracy on Validation Set: {accuracy}\")\n",
        "\n",
        "print(\"Classification Report:\\n\", classification_report(y_val, y_val_pred_best_rf))\n",
        "print(\"Confusion Matrix:\\n\", confusion_matrix(y_val, y_val_pred_best_rf))\n",
        "\n",
        "# 5. Evaluate on the test set\n",
        "y_test_pred_best_rf = best_rf_model.predict(X_test)\n",
        "test_accuracy = accuracy_score(y_test, y_test_pred_best_rf)\n",
        "print(f\"Best Random Forest Accuracy on Test Set: {test_accuracy}\")"
      ]
    },
    {
      "cell_type": "code",
      "execution_count": null,
      "metadata": {
        "colab": {
          "background_save": true,
          "base_uri": "https://localhost:8080/"
        },
        "id": "P5nhRDQcN8Dy",
        "outputId": "4ebd7414-f236-4921-e4d5-cc77af8a8fd4"
      },
      "outputs": [
        {
          "name": "stdout",
          "output_type": "stream",
          "text": [
            "Logistic Regression Accuracy: 0.31539533263671193\n",
            "              precision    recall  f1-score   support\n",
            "\n",
            "           0       0.26      0.25      0.26       993\n",
            "           1       0.13      0.14      0.13        87\n",
            "           2       0.22      0.19      0.20       820\n",
            "           3       0.24      0.23      0.23       966\n",
            "           4       0.23      0.20      0.21       799\n",
            "           5       0.41      0.44      0.42       634\n",
            "           6       0.43      0.51      0.47      1443\n",
            "\n",
            "    accuracy                           0.32      5742\n",
            "   macro avg       0.28      0.28      0.28      5742\n",
            "weighted avg       0.31      0.32      0.31      5742\n",
            "\n",
            "[[252  16 107 171 112  76 259]\n",
            " [ 11  12  12  11  14   7  20]\n",
            " [132  15 154 138 111 113 157]\n",
            " [194  19 115 221 113  70 234]\n",
            " [122  11  98 146 159  64 199]\n",
            " [ 71   4  76  63  48 280  92]\n",
            " [177  14 129 175 138  77 733]]\n",
            "Precision (Weighted): 0.30503921465362366\n",
            "Recall (Weighted): 0.31539533263671193\n",
            "F1-Score (Weighted): 0.30899406534932866\n",
            "Fitting 2 folds for each of 10 candidates, totalling 20 fits\n"
          ]
        },
        {
          "name": "stderr",
          "output_type": "stream",
          "text": [
            "/usr/local/lib/python3.11/dist-packages/sklearn/linear_model/_logistic.py:465: ConvergenceWarning: lbfgs failed to converge (status=1):\n",
            "STOP: TOTAL NO. of ITERATIONS REACHED LIMIT.\n",
            "\n",
            "Increase the number of iterations (max_iter) or scale the data as shown in:\n",
            "    https://scikit-learn.org/stable/modules/preprocessing.html\n",
            "Please also refer to the documentation for alternative solver options:\n",
            "    https://scikit-learn.org/stable/modules/linear_model.html#logistic-regression\n",
            "  n_iter_i = _check_optimize_result(\n"
          ]
        }
      ],
      "source": [
        "# logistic regression\n",
        "\n",
        "from sklearn.linear_model import LogisticRegression\n",
        "\n",
        "lr_model = LogisticRegression(random_state=42, max_iter=1000)\n",
        "# Increase max_iter if needed^\n",
        "lr_model.fit(X_train, y_train)\n",
        "\n",
        "from sklearn.metrics import accuracy_score, classification_report, confusion_matrix, precision_score, recall_score, f1_score\n",
        "\n",
        "y_val_pred_lr = lr_model.predict(X_val)\n",
        "accuracy = accuracy_score(y_val, y_val_pred_lr)\n",
        "print(f\"Logistic Regression Accuracy: {accuracy}\")\n",
        "\t\t#proportion of correctly classified examples\n",
        "print(classification_report(y_val, y_val_pred_lr))\n",
        "print(confusion_matrix(y_val, y_val_pred_lr))\n",
        "\t\t#true positive, tn, fp, fn\n",
        "\n",
        "#Get precision (TP/(TP + FP)), recall (TP/(TP + FN)\n",
        "precision = precision_score(y_val, y_val_pred_lr, average='weighted')\n",
        "recall = recall_score(y_val, y_val_pred_lr, average='weighted')\n",
        "#F1-score (2*(Precision*Recall)/(Precision+Recall))\n",
        "f1 = f1_score(y_val, y_val_pred_lr, average='weighted')\n",
        "\n",
        "print(f\"Precision (Weighted): {precision}\")\n",
        "print(f\"Recall (Weighted): {recall}\")\n",
        "print(f\"F1-Score (Weighted): {f1}\")\n",
        "\n",
        "from sklearn.model_selection import RandomizedSearchCV\n",
        "from scipy.stats import randint\n",
        "\n",
        "param_distributions = {\n",
        "    'C': [0.01, 0.1, 1, 10, 100],            # Regularization strength\n",
        "    'penalty': ['l1', 'l2', 'elasticnet'],   # Type of regularization\n",
        "    'solver': ['liblinear', 'saga'],         # Solvers supporting penalties\n",
        "    'max_iter': [100, 200, 500]              # Iterations for convergence\n",
        "}\n",
        "\n",
        "randomized_search = RandomizedSearchCV(estimator=lr_model, param_distributions=param_distributions, n_iter=10, cv=2, scoring='accuracy', verbose=2, n_jobs=-1)\n",
        "randomized_search.fit(X_train, y_train)\n",
        "\n",
        "# Best parameters found\n",
        "print(\"Best Parameters:\", randomized_search.best_params_)"
      ]
    },
    {
      "cell_type": "code",
      "execution_count": null,
      "metadata": {
        "colab": {
          "base_uri": "https://localhost:8080/",
          "height": 216
        },
        "id": "hvbuC7rRN-gk",
        "outputId": "971c22a3-408d-41b4-d919-32f35ab340ea"
      },
      "outputs": [
        {
          "ename": "NameError",
          "evalue": "name 'knn_model' is not defined",
          "output_type": "error",
          "traceback": [
            "\u001b[0;31m---------------------------------------------------------------------------\u001b[0m",
            "\u001b[0;31mNameError\u001b[0m                                 Traceback (most recent call last)",
            "\u001b[0;32m<ipython-input-9-81761559f56e>\u001b[0m in \u001b[0;36m<cell line: 0>\u001b[0;34m()\u001b[0m\n\u001b[1;32m      3\u001b[0m \u001b[0;32mfrom\u001b[0m \u001b[0msklearn\u001b[0m\u001b[0;34m.\u001b[0m\u001b[0mmetrics\u001b[0m \u001b[0;32mimport\u001b[0m \u001b[0maccuracy_score\u001b[0m\u001b[0;34m,\u001b[0m \u001b[0mclassification_report\u001b[0m\u001b[0;34m,\u001b[0m \u001b[0mconfusion_matrix\u001b[0m\u001b[0;34m,\u001b[0m \u001b[0mprecision_score\u001b[0m\u001b[0;34m,\u001b[0m \u001b[0mrecall_score\u001b[0m\u001b[0;34m,\u001b[0m \u001b[0mf1_score\u001b[0m\u001b[0;34m\u001b[0m\u001b[0;34m\u001b[0m\u001b[0m\n\u001b[1;32m      4\u001b[0m \u001b[0;34m\u001b[0m\u001b[0m\n\u001b[0;32m----> 5\u001b[0;31m \u001b[0my_val\u001b[0m \u001b[0;34m=\u001b[0m \u001b[0mknn_model\u001b[0m\u001b[0;34m.\u001b[0m\u001b[0mpredict\u001b[0m\u001b[0;34m(\u001b[0m\u001b[0mX_val\u001b[0m\u001b[0;34m)\u001b[0m\u001b[0;34m\u001b[0m\u001b[0;34m\u001b[0m\u001b[0m\n\u001b[0m\u001b[1;32m      6\u001b[0m \u001b[0maccuracy\u001b[0m \u001b[0;34m=\u001b[0m \u001b[0maccuracy_score\u001b[0m\u001b[0;34m(\u001b[0m\u001b[0my_val\u001b[0m\u001b[0;34m,\u001b[0m \u001b[0my_val_pred_knn\u001b[0m\u001b[0;34m)\u001b[0m\u001b[0;34m\u001b[0m\u001b[0;34m\u001b[0m\u001b[0m\n\u001b[1;32m      7\u001b[0m \u001b[0mprint\u001b[0m\u001b[0;34m(\u001b[0m\u001b[0;34mf\"K Nearest Neighbors Accuracy: {accuracy}\"\u001b[0m\u001b[0;34m)\u001b[0m\u001b[0;34m\u001b[0m\u001b[0;34m\u001b[0m\u001b[0m\n",
            "\u001b[0;31mNameError\u001b[0m: name 'knn_model' is not defined"
          ]
        }
      ],
      "source": [
        "#KNN\n",
        "\n",
        "from sklearn.neighbors import KNeighborsClassifier\n",
        "from sklearn.metrics import accuracy_score, classification_report, confusion_matrix, precision_score, recall_score, f1_score\n",
        "\n",
        "knn_model = KNeighborsClassifier()\n",
        "y_val = knn_model.predict(X_val)\n",
        "accuracy = accuracy_score(y_val, y_val_pred_knn)\n",
        "print(f\"K Nearest Neighbors Accuracy: {accuracy}\")\n",
        "\t\t#proportion of correctly classified examples\n",
        "print(classification_report(y_val, y_val_pred_knn))\n",
        "print(confusion_matrix(y_val, y_val_pred_knn))\n",
        "\t\t#true positive, tn, fp, fn\n",
        "\n",
        "#Get precision (TP/(TP + FP)), recall (TP/(TP + FN)\n",
        "precision = precision_score(y_val, y_val_pred_knn, average='weighted')\n",
        "recall = recall_score(y_val, y_val_pred_knn, average='weighted')\n",
        "#F1-score (2*(Precision*Recall)/(Precision+Recall))\n",
        "f1 = f1_score(y_val, y_val_pred_knn, average='weighted')\n",
        "\n",
        "print(f\"Precision (Weighted): {precision}\")\n",
        "print(f\"Recall (Weighted): {recall}\")\n",
        "print(f\"F1-Score (Weighted): {f1}\")\n",
        "\n",
        "from sklearn.model_selection import RandomizedSearchCV\n",
        "from scipy.stats import randint\n",
        "\n",
        "# Hyperparameter distribution\n",
        "param_distributions = {\n",
        "    'n_neighbors': [3, 5, 7, 10],\n",
        "    'metric': ['euclidean', 'manhattan', 'minkowski']\n",
        "}\n",
        "\n",
        "randomized_search = RandomizedSearchCV(estimator=knn_model, param_distributions=param_distributions, n_iter=10, cv=3, scoring='accuracy', verbose=2, n_jobs=-1)\n",
        "randomized_search.fit(X_train, y_train)\n",
        "\n",
        "# Best parameters found\n",
        "print(\"Best Parameters:\", randomized_search.best_params_)\n",
        "\n",
        "\n",
        "# Set hyperparameters\n",
        "'''\n",
        "knn_model = KNeighborsClassifier(\n",
        "    n_neighbors=7,\n",
        "    metric='manhattan'\n",
        ")\n",
        "'''\n",
        "\n"
      ]
    },
    {
      "cell_type": "code",
      "execution_count": null,
      "metadata": {
        "colab": {
          "base_uri": "https://localhost:8080/"
        },
        "id": "7ZKLmFwUCTBt",
        "outputId": "f1e8ef88-aa86-406a-e930-b2333eae92ef"
      },
      "outputs": [
        {
          "name": "stdout",
          "output_type": "stream",
          "text": [
            "Best KNN Accuracy on Validation Set: 0.33611981887843956\n",
            "Classification Report:\n",
            "               precision    recall  f1-score   support\n",
            "\n",
            "           0       0.26      0.50      0.34       993\n",
            "           1       0.29      0.24      0.26        87\n",
            "           2       0.29      0.26      0.28       820\n",
            "           3       0.30      0.22      0.26       966\n",
            "           4       0.33      0.17      0.23       799\n",
            "           5       0.46      0.35      0.39       634\n",
            "           6       0.44      0.43      0.44      1443\n",
            "\n",
            "    accuracy                           0.34      5742\n",
            "   macro avg       0.34      0.31      0.31      5742\n",
            "weighted avg       0.35      0.34      0.33      5742\n",
            "\n",
            "Confusion Matrix:\n",
            " [[498   6  99 100  56  41 193]\n",
            " [ 26  21  10   5   4   3  18]\n",
            " [246   9 213  86  49  80 137]\n",
            " [340  10 127 214  59  33 183]\n",
            " [257   6  97 106 137  39 157]\n",
            " [153   5  76  42  34 220 104]\n",
            " [403  16 101 156  74  66 627]]\n"
          ]
        }
      ],
      "source": [
        "from sklearn.neighbors import KNeighborsClassifier\n",
        "from sklearn.metrics import accuracy_score, classification_report, confusion_matrix\n",
        "\n",
        "# 1. Define the best parameters manually\n",
        "best_knn_model = KNeighborsClassifier(\n",
        "    n_neighbors=7,\n",
        "    metric='manhattan'\n",
        ")\n",
        "\n",
        "# 2. Train the model on training data\n",
        "best_knn_model.fit(X_train, y_train)\n",
        "\n",
        "# 3. Make predictions on the validation set\n",
        "y_val_pred_best_knn = best_knn_model.predict(X_val)\n",
        "\n",
        "# 4. Evaluate the model\n",
        "accuracy = accuracy_score(y_val, y_val_pred_best_knn)\n",
        "print(f\"Best KNN Accuracy on Validation Set: {accuracy}\")\n",
        "\n",
        "print(\"Classification Report:\\n\", classification_report(y_val, y_val_pred_best_knn))\n",
        "print(\"Confusion Matrix:\\n\", confusion_matrix(y_val, y_val_pred_best_knn))\n",
        "\n",
        "# 5. Evaluate on the test set\n",
        "y_test_pred_best_knn = best_knn_model.predict(X_test)\n",
        "test_accuracy = accuracy_score(y_test, y_test_pred_best_knn)\n",
        "print(f\"Best KNN Accuracy on Test Set: {test_accuracy}\")"
      ]
    },
    {
      "cell_type": "code",
      "execution_count": null,
      "metadata": {
        "id": "8NebdEqpFoQb"
      },
      "outputs": [],
      "source": [
        "# decision tree accuracy on test set: 0.3110894399554193\n",
        "# random forest accuracy on test set: 0.40596266369462247\n",
        "# logistic regression accuracy on test set:\n",
        "# knn accuracy on test set:"
      ]
    },
    {
      "cell_type": "code",
      "execution_count": null,
      "metadata": {
        "id": "qLwHLGwR4bgR"
      },
      "outputs": [],
      "source": [
        "from sklearn.metrics import accuracy_score, classification_report, confusion_matrix\n",
        "import numpy as np\n",
        "\n",
        "y_test = test_labels\n",
        "\n",
        "# 2. Select the BEST model after hyperparameter tuning\n",
        "best_model = best_rf_model\n",
        "\n",
        "# 3. Make predictions on the test set\n",
        "y_test_pred = best_model.predict(X_test)\n",
        "\n",
        "# 4. Evaluate performance\n",
        "print(\"Test Set Accuracy:\", accuracy_score(y_test, y_test_pred))\n",
        "print(classification_report(y_test, y_test_pred))\n",
        "print(\"Confusion Matrix:\\n\", confusion_matrix(y_test, y_test_pred))\n"
      ]
    }
  ],
  "metadata": {
    "colab": {
      "provenance": []
    },
    "kernelspec": {
      "display_name": "Python 3",
      "name": "python3"
    },
    "language_info": {
      "name": "python"
    }
  },
  "nbformat": 4,
  "nbformat_minor": 0
}
